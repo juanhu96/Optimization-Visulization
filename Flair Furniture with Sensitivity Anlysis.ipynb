{
 "cells": [
  {
   "cell_type": "markdown",
   "metadata": {},
   "source": [
    "### Algebraic formulation of the problem\n",
    "\n",
    "$$\\begin{array}{rll}\n",
    " \\text{max} & 7T+5C \\\\\n",
    " \\text{s.t.} & 3T + 4C \\le 2400 \\\\\n",
    " & 2T + C \\le 1000 \\\\\n",
    "  &  C \\le 450 \\\\\n",
    "   & T  \\ge 100 \\\\\n",
    " & \\text{non-negativity constraints}\\\\\n",
    "\\end{array}\n",
    "$$"
   ]
  },
  {
   "cell_type": "markdown",
   "metadata": {},
   "source": [
    "### 1. Slove for opimal objective value"
   ]
  },
  {
   "cell_type": "markdown",
   "metadata": {},
   "source": [
    "### Set up Gurobi environment"
   ]
  },
  {
   "cell_type": "code",
   "execution_count": 1,
   "metadata": {},
   "outputs": [],
   "source": [
    "from gurobipy import *"
   ]
  },
  {
   "cell_type": "code",
   "execution_count": 2,
   "metadata": {},
   "outputs": [],
   "source": [
    "m = Model()"
   ]
  },
  {
   "cell_type": "markdown",
   "metadata": {},
   "source": [
    "### Set up variable and constraint Python lists"
   ]
  },
  {
   "cell_type": "code",
   "execution_count": 3,
   "metadata": {},
   "outputs": [],
   "source": [
    "products = [\"tables\", \"chairs\"]\n",
    "constraints = [\"carpentry_work\", \"painting\"]"
   ]
  },
  {
   "cell_type": "markdown",
   "metadata": {},
   "source": [
    "### Set  objective coefficients using Python dictionary"
   ]
  },
  {
   "cell_type": "code",
   "execution_count": 4,
   "metadata": {},
   "outputs": [],
   "source": [
    "profit_contribution = {\"tables\": 7, \"chairs\": 5}"
   ]
  },
  {
   "cell_type": "markdown",
   "metadata": {},
   "source": [
    "### Load variables into the Gurobi model"
   ]
  },
  {
   "cell_type": "code",
   "execution_count": 5,
   "metadata": {},
   "outputs": [],
   "source": [
    "production_levels = m.addVars(products, name=\"production_levels\")"
   ]
  },
  {
   "cell_type": "markdown",
   "metadata": {},
   "source": [
    "### Inidicate maximum and minimum production level on each product"
   ]
  },
  {
   "cell_type": "code",
   "execution_count": 6,
   "metadata": {},
   "outputs": [],
   "source": [
    "# set upper bounds on variables\n",
    "production_levels[\"chairs\"].ub = 450\n",
    "# set lower bounds on variables\n",
    "production_levels[\"tables\"].lb = 100\n",
    "m.update() # update Gurobi model"
   ]
  },
  {
   "cell_type": "markdown",
   "metadata": {},
   "source": [
    "### Set the matrix of left-hand-side constraint coefficients (Python dictionary)"
   ]
  },
  {
   "cell_type": "code",
   "execution_count": 7,
   "metadata": {},
   "outputs": [],
   "source": [
    "lhs_constr_matrix = {\n",
    "    \"carpentry_work\": {\"tables\": 3, \"chairs\": 4},\n",
    "    \"painting\":{\"tables\": 2, \"chairs\": 1}\n",
    "}"
   ]
  },
  {
   "cell_type": "markdown",
   "metadata": {},
   "source": [
    "### Set the right-hand-side constraint vector (Python dictionary)"
   ]
  },
  {
   "cell_type": "code",
   "execution_count": 8,
   "metadata": {},
   "outputs": [],
   "source": [
    "rhs_constr_vector = {\n",
    "    \"carpentry_work\": 2400,\n",
    "    \"painting\": 1000\n",
    "}"
   ]
  },
  {
   "cell_type": "markdown",
   "metadata": {},
   "source": [
    "### Load the constraints into Gurobi. The use of quicksum and the for loops is convenient when there are many constraints."
   ]
  },
  {
   "cell_type": "code",
   "execution_count": 9,
   "metadata": {},
   "outputs": [],
   "source": [
    "constraints_set = m.addConstrs((quicksum(lhs_constr_matrix[constr][product]*production_levels[product] \n",
    "                      for product in products) <= rhs_constr_vector[constr]  # use sumproduct to generate one constraint\n",
    "                      for constr in constraints), name=\"constraints\");           # use for loop to generate all the constraints"
   ]
  },
  {
   "cell_type": "markdown",
   "metadata": {},
   "source": [
    "### Set up the objective function"
   ]
  },
  {
   "cell_type": "code",
   "execution_count": 10,
   "metadata": {},
   "outputs": [],
   "source": [
    "obj = quicksum(\n",
    "    profit_contribution[product] * production_levels[product] for product in products\n",
    ")"
   ]
  },
  {
   "cell_type": "markdown",
   "metadata": {},
   "source": [
    "### Tell Gurobi we want to maximize this objective function"
   ]
  },
  {
   "cell_type": "code",
   "execution_count": 11,
   "metadata": {},
   "outputs": [],
   "source": [
    "m.setObjective(obj, GRB.MAXIMIZE)"
   ]
  },
  {
   "cell_type": "markdown",
   "metadata": {},
   "source": [
    "### Tell Gurobi to solve the LP, and look for the optimal objective function value on the last line"
   ]
  },
  {
   "cell_type": "code",
   "execution_count": 12,
   "metadata": {},
   "outputs": [
    {
     "name": "stdout",
     "output_type": "stream",
     "text": [
      "Optimize a model with 2 rows, 2 columns and 4 nonzeros\n",
      "Coefficient statistics:\n",
      "  Matrix range     [1e+00, 4e+00]\n",
      "  Objective range  [5e+00, 7e+00]\n",
      "  Bounds range     [1e+02, 4e+02]\n",
      "  RHS range        [1e+03, 2e+03]\n",
      "Presolve time: 0.01s\n",
      "Presolved: 2 rows, 2 columns, 4 nonzeros\n",
      "\n",
      "Iteration    Objective       Primal Inf.    Dual Inf.      Time\n",
      "       0    2.8000000e+31   1.750000e+30   2.800000e+01      0s\n",
      "       2    4.0400000e+03   0.000000e+00   0.000000e+00      0s\n",
      "\n",
      "Solved in 2 iterations and 0.02 seconds\n",
      "Optimal objective  4.040000000e+03\n"
     ]
    }
   ],
   "source": [
    "m.optimize()"
   ]
  },
  {
   "cell_type": "markdown",
   "metadata": {},
   "source": [
    "### Ask Gurobi for the optimal decisions"
   ]
  },
  {
   "cell_type": "code",
   "execution_count": 13,
   "metadata": {},
   "outputs": [
    {
     "name": "stdout",
     "output_type": "stream",
     "text": [
      "\n",
      "    Variable            X \n",
      "-------------------------\n",
      "production_levels[tables]          320 \n",
      "production_levels[chairs]          360 \n"
     ]
    }
   ],
   "source": [
    "m.printAttr('X')"
   ]
  },
  {
   "cell_type": "markdown",
   "metadata": {},
   "source": [
    "###  2. Sensitivity Analysis"
   ]
  },
  {
   "cell_type": "markdown",
   "metadata": {},
   "source": [
    "### Set up variables x1, x2 in Python which refer to the variables in the model"
   ]
  },
  {
   "cell_type": "code",
   "execution_count": 14,
   "metadata": {},
   "outputs": [],
   "source": [
    "x1 = m.getVars()[0]   # In Python, index 0 refers to the first element.So, x1 is tables, x2 is chairs\n",
    "x2 = m.getVars()[1]"
   ]
  },
  {
   "cell_type": "markdown",
   "metadata": {},
   "source": [
    "### Derive the maximum and minimum value that the objective coefficient of x1 can take before the optimal solution changes."
   ]
  },
  {
   "cell_type": "code",
   "execution_count": 15,
   "metadata": {
    "scrolled": true
   },
   "outputs": [
    {
     "data": {
      "text/plain": [
       "(3.75, 10.0)"
      ]
     },
     "execution_count": 15,
     "metadata": {},
     "output_type": "execute_result"
    }
   ],
   "source": [
    "(x1.SAObjLow, x1.SAObjUp)"
   ]
  },
  {
   "cell_type": "markdown",
   "metadata": {},
   "source": [
    "This indicates that as long as the profit contribution of one table falls between (3.75, 10.0) interval, the optimal solution remains the same. Note that this is valid only when one coefficient changes."
   ]
  },
  {
   "cell_type": "markdown",
   "metadata": {},
   "source": [
    "### Similiarly, for x2"
   ]
  },
  {
   "cell_type": "code",
   "execution_count": 16,
   "metadata": {},
   "outputs": [
    {
     "data": {
      "text/plain": [
       "(3.5, 9.333333333333334)"
      ]
     },
     "execution_count": 16,
     "metadata": {},
     "output_type": "execute_result"
    }
   ],
   "source": [
    "(x2.SAObjLow, x2.SAObjUp)"
   ]
  },
  {
   "cell_type": "markdown",
   "metadata": {},
   "source": [
    "#### As long as the profit contribution of one chair falls between (3.5, 9.34) interval, the optimal solution remains the same."
   ]
  },
  {
   "cell_type": "markdown",
   "metadata": {},
   "source": [
    "### Get the shadow price for contraint carpentry_work "
   ]
  },
  {
   "cell_type": "code",
   "execution_count": 17,
   "metadata": {},
   "outputs": [
    {
     "name": "stdout",
     "output_type": "stream",
     "text": [
      "0.6\n"
     ]
    }
   ],
   "source": [
    "print(constraints_set['carpentry_work'].pi)"
   ]
  },
  {
   "cell_type": "code",
   "execution_count": 18,
   "metadata": {},
   "outputs": [
    {
     "data": {
      "text/plain": [
       "0.6"
      ]
     },
     "execution_count": 18,
     "metadata": {},
     "output_type": "execute_result"
    }
   ],
   "source": [
    "constraints_set['carpentry_work'].pi"
   ]
  },
  {
   "cell_type": "markdown",
   "metadata": {},
   "source": [
    "The maximium to pay for one additional hour of carpentry work 0.6. "
   ]
  },
  {
   "cell_type": "code",
   "execution_count": 19,
   "metadata": {},
   "outputs": [
    {
     "name": "stdout",
     "output_type": "stream",
     "text": [
      "2.6\n"
     ]
    }
   ],
   "source": [
    "print(constraints_set['painting'].pi)"
   ]
  },
  {
   "cell_type": "markdown",
   "metadata": {},
   "source": [
    "The maximium to pay for one additional hour of painting is 2.6. "
   ]
  },
  {
   "cell_type": "markdown",
   "metadata": {},
   "source": [
    "### The maximum and minimum the RHS can take before the optimal solution changes."
   ]
  },
  {
   "cell_type": "code",
   "execution_count": 20,
   "metadata": {
    "scrolled": true
   },
   "outputs": [
    {
     "name": "stdout",
     "output_type": "stream",
     "text": [
      "1500.0 2625.0\n"
     ]
    }
   ],
   "source": [
    "print(constraints_set['carpentry_work'].SARHSLow,constraints_set['carpentry_work'].SARHSUp)"
   ]
  },
  {
   "cell_type": "markdown",
   "metadata": {},
   "source": [
    "As long as the total hours available for carpentry work falls between (1500, 2625) interval, the optimal solution remains the same. Note that this is valid only when one constaint changes."
   ]
  },
  {
   "cell_type": "code",
   "execution_count": 21,
   "metadata": {},
   "outputs": [
    {
     "name": "stdout",
     "output_type": "stream",
     "text": [
      "850.0 1600.0\n"
     ]
    }
   ],
   "source": [
    "print(constraints_set['painting'].SARHSLow,constraints_set['painting'].SARHSUp)"
   ]
  },
  {
   "cell_type": "markdown",
   "metadata": {},
   "source": [
    "As long as the total hours available for painting falls between (850, 1600) interval, the optimal solution remains the same."
   ]
  },
  {
   "cell_type": "markdown",
   "metadata": {},
   "source": [
    "###   "
   ]
  },
  {
   "cell_type": "markdown",
   "metadata": {},
   "source": [
    "###  3. Dual Linear Program"
   ]
  },
  {
   "cell_type": "markdown",
   "metadata": {},
   "source": [
    "### algebraic formulation of the dual LP\n",
    "$$\\begin{array}{rll}\n",
    " \\text{min} & 2400y1 + 1000y2 + 450y3 - 100y4 \\\\\n",
    " \\text{s.t.} & 3y1 + 2y2 - y4\\ge 7 \\\\\n",
    " & 4y1 + y2 + y3 \\ge 5 \\\\\n",
    " & \\text{non-negativity constraints}\\\\\n",
    "\\end{array}\n",
    "$$"
   ]
  },
  {
   "cell_type": "code",
   "execution_count": 22,
   "metadata": {},
   "outputs": [],
   "source": [
    "m_dual = Model()"
   ]
  },
  {
   "cell_type": "markdown",
   "metadata": {},
   "source": [
    "### Set up variables and constraints using Python lists"
   ]
  },
  {
   "cell_type": "code",
   "execution_count": 23,
   "metadata": {},
   "outputs": [],
   "source": [
    "dual_variables = [\"carpentry_work_dual\", \"painting_dual\", \"max_chairs_dual\", \"min_tables_dual\"]\n",
    "dual_constraints = [\"tables\", \"chairs\"]"
   ]
  },
  {
   "cell_type": "markdown",
   "metadata": {},
   "source": [
    "### Set  objective coefficients using Python dictionary"
   ]
  },
  {
   "cell_type": "code",
   "execution_count": 24,
   "metadata": {},
   "outputs": [],
   "source": [
    "dual_contribution = {\"carpentry_work_dual\":2400, \"painting_dual\":1000, \"max_chairs_dual\":450, \"min_tables_dual\":-100}"
   ]
  },
  {
   "cell_type": "markdown",
   "metadata": {},
   "source": [
    "### Load variables into the Gurobi model"
   ]
  },
  {
   "cell_type": "code",
   "execution_count": 25,
   "metadata": {},
   "outputs": [],
   "source": [
    "dual_levels = m_dual.addVars(dual_variables, name=\"dual_levels\")"
   ]
  },
  {
   "cell_type": "code",
   "execution_count": 26,
   "metadata": {},
   "outputs": [],
   "source": [
    "for d in dual_variables:\n",
    "    dual_levels[d].vtype = GRB.CONTINUOUS"
   ]
  },
  {
   "cell_type": "markdown",
   "metadata": {},
   "source": [
    "### Set the matrix of left-hand-side constraint coefficients"
   ]
  },
  {
   "cell_type": "code",
   "execution_count": 27,
   "metadata": {},
   "outputs": [],
   "source": [
    "dual_lhs_constr_matrix = {\n",
    "    \"tables\": {\"carpentry_work_dual\": 3, \"painting_dual\": 2, \"min_tables_dual\": -1},\n",
    "    \"chairs\":{\"carpentry_work_dual\": 4, \"painting_dual\": 1, \"max_chairs_dual\": 1}\n",
    "}"
   ]
  },
  {
   "cell_type": "markdown",
   "metadata": {},
   "source": [
    "### Set the right-hand-side constraint vector"
   ]
  },
  {
   "cell_type": "code",
   "execution_count": 28,
   "metadata": {},
   "outputs": [],
   "source": [
    "dual_rhs_constr_vector = {\n",
    "    \"tables\": 7,\n",
    "    \"chairs\": 5\n",
    "}"
   ]
  },
  {
   "cell_type": "markdown",
   "metadata": {},
   "source": [
    "### Load the constraints into Gurobi. "
   ]
  },
  {
   "cell_type": "code",
   "execution_count": 29,
   "metadata": {},
   "outputs": [],
   "source": [
    "dual_constraints_set = m_dual.addConstrs((quicksum(dual_lhs_constr_matrix[constr][dual_variable] * dual_levels[dual_variable] \n",
    "                                                   for dual_variable in dual_lhs_constr_matrix[constr]) >= dual_rhs_constr_vector[constr] \n",
    "                                          for constr in dual_constraints), name=\"dual_constraints\");"
   ]
  },
  {
   "cell_type": "markdown",
   "metadata": {},
   "source": [
    "### Set up the objective function"
   ]
  },
  {
   "cell_type": "code",
   "execution_count": 30,
   "metadata": {},
   "outputs": [],
   "source": [
    "dual_obj = quicksum(\n",
    "    dual_contribution[dual_variable] * dual_levels[dual_variable] for dual_variable in dual_variables\n",
    ")"
   ]
  },
  {
   "cell_type": "markdown",
   "metadata": {},
   "source": [
    "### Tell Gurobi we want to minimize this objective function"
   ]
  },
  {
   "cell_type": "code",
   "execution_count": 31,
   "metadata": {},
   "outputs": [],
   "source": [
    "m_dual.setObjective(dual_obj, GRB.MINIMIZE)"
   ]
  },
  {
   "cell_type": "markdown",
   "metadata": {},
   "source": [
    "### Tell Gurobi to solve the dual LP, and look for the optimal objective function value on the last line"
   ]
  },
  {
   "cell_type": "code",
   "execution_count": 32,
   "metadata": {},
   "outputs": [
    {
     "name": "stdout",
     "output_type": "stream",
     "text": [
      "Optimize a model with 2 rows, 4 columns and 6 nonzeros\n",
      "Coefficient statistics:\n",
      "  Matrix range     [1e+00, 4e+00]\n",
      "  Objective range  [1e+02, 2e+03]\n",
      "  Bounds range     [0e+00, 0e+00]\n",
      "  RHS range        [5e+00, 7e+00]\n",
      "Presolve time: 0.01s\n",
      "Presolved: 2 rows, 4 columns, 6 nonzeros\n",
      "\n",
      "Iteration    Objective       Primal Inf.    Dual Inf.      Time\n",
      "       0   -2.0000000e+32   1.000000e+30   2.000000e+02      0s\n",
      "       3    4.0400000e+03   0.000000e+00   0.000000e+00      0s\n",
      "\n",
      "Solved in 3 iterations and 0.01 seconds\n",
      "Optimal objective  4.040000000e+03\n"
     ]
    }
   ],
   "source": [
    "m_dual.optimize()"
   ]
  },
  {
   "cell_type": "markdown",
   "metadata": {},
   "source": [
    "### Ask Gurobi for the optimal decisions"
   ]
  },
  {
   "cell_type": "code",
   "execution_count": 33,
   "metadata": {},
   "outputs": [
    {
     "name": "stdout",
     "output_type": "stream",
     "text": [
      "\n",
      "    Variable            X \n",
      "-------------------------\n",
      "dual_levels[carpentry_work_dual]          0.6 \n",
      "dual_levels[painting_dual]          2.6 \n"
     ]
    }
   ],
   "source": [
    "m_dual.printAttr('X')"
   ]
  },
  {
   "cell_type": "code",
   "execution_count": 34,
   "metadata": {},
   "outputs": [],
   "source": [
    "m_dual.write(\"file.lp\")"
   ]
  },
  {
   "cell_type": "markdown",
   "metadata": {},
   "source": [
    "###  Sensitivity Analysis for Dual LP"
   ]
  },
  {
   "cell_type": "markdown",
   "metadata": {},
   "source": [
    "#### Set up variables y1, y2, y3, y4 in Python which refer to the variables in the model"
   ]
  },
  {
   "cell_type": "code",
   "execution_count": 35,
   "metadata": {},
   "outputs": [],
   "source": [
    "y1 = m_dual.getVars()[0]\n",
    "y2 = m_dual.getVars()[1]\n",
    "y3 = m_dual.getVars()[2]\n",
    "y4 = m_dual.getVars()[3]"
   ]
  },
  {
   "cell_type": "code",
   "execution_count": 36,
   "metadata": {},
   "outputs": [
    {
     "name": "stdout",
     "output_type": "stream",
     "text": [
      "0.6\n",
      "2.6\n",
      "0.0\n",
      "0.0\n"
     ]
    }
   ],
   "source": [
    "print(y1.X)\n",
    "print(y2.X)\n",
    "print(y3.X)\n",
    "print(y4.X)"
   ]
  },
  {
   "cell_type": "markdown",
   "metadata": {},
   "source": [
    "#### Derive the maximum and minimum value that the objective coefficient of y1, y2, y3, y4 can take before the optimal solution changes."
   ]
  },
  {
   "cell_type": "code",
   "execution_count": 37,
   "metadata": {},
   "outputs": [
    {
     "name": "stdout",
     "output_type": "stream",
     "text": [
      "carpentry_work_dual range:\n"
     ]
    },
    {
     "data": {
      "text/plain": [
       "(1500.0, 2625.0)"
      ]
     },
     "execution_count": 37,
     "metadata": {},
     "output_type": "execute_result"
    }
   ],
   "source": [
    "print (\"carpentry_work_dual range:\")\n",
    "(y1.SAObjLow, y1.SAObjUp)"
   ]
  },
  {
   "cell_type": "code",
   "execution_count": 38,
   "metadata": {},
   "outputs": [
    {
     "name": "stdout",
     "output_type": "stream",
     "text": [
      "painting_dual range:\n"
     ]
    },
    {
     "data": {
      "text/plain": [
       "(850.0, 1600.0)"
      ]
     },
     "execution_count": 38,
     "metadata": {},
     "output_type": "execute_result"
    }
   ],
   "source": [
    "print (\"painting_dual range:\")\n",
    "(y2.SAObjLow, y2.SAObjUp)"
   ]
  },
  {
   "cell_type": "code",
   "execution_count": 39,
   "metadata": {},
   "outputs": [
    {
     "name": "stdout",
     "output_type": "stream",
     "text": [
      "max_chairs_dual range:\n"
     ]
    },
    {
     "data": {
      "text/plain": [
       "(360.0, 1e+100)"
      ]
     },
     "execution_count": 39,
     "metadata": {},
     "output_type": "execute_result"
    }
   ],
   "source": [
    "print (\"max_chairs_dual range:\")\n",
    "(y3.SAObjLow, y3.SAObjUp)"
   ]
  },
  {
   "cell_type": "code",
   "execution_count": 40,
   "metadata": {},
   "outputs": [
    {
     "name": "stdout",
     "output_type": "stream",
     "text": [
      "min_table_dual range:\n"
     ]
    },
    {
     "data": {
      "text/plain": [
       "(-320.0, 1e+100)"
      ]
     },
     "execution_count": 40,
     "metadata": {},
     "output_type": "execute_result"
    }
   ],
   "source": [
    "print (\"min_table_dual range:\")\n",
    "(y4.SAObjLow, y4.SAObjUp)"
   ]
  },
  {
   "cell_type": "markdown",
   "metadata": {},
   "source": [
    "### Get the shadow price for contraint tables, chairs (primal constraints)"
   ]
  },
  {
   "cell_type": "code",
   "execution_count": 41,
   "metadata": {},
   "outputs": [
    {
     "data": {
      "text/plain": [
       "320.0"
      ]
     },
     "execution_count": 41,
     "metadata": {},
     "output_type": "execute_result"
    }
   ],
   "source": [
    "dual_constraints_set['tables'].pi"
   ]
  },
  {
   "cell_type": "code",
   "execution_count": 42,
   "metadata": {},
   "outputs": [
    {
     "data": {
      "text/plain": [
       "360.0"
      ]
     },
     "execution_count": 42,
     "metadata": {},
     "output_type": "execute_result"
    }
   ],
   "source": [
    "dual_constraints_set['chairs'].pi"
   ]
  },
  {
   "cell_type": "markdown",
   "metadata": {},
   "source": [
    "### The maximum and minimum the RHS can take before the optimal solution changes."
   ]
  },
  {
   "cell_type": "code",
   "execution_count": 43,
   "metadata": {},
   "outputs": [
    {
     "name": "stdout",
     "output_type": "stream",
     "text": [
      "3.75 10.0\n"
     ]
    }
   ],
   "source": [
    "print(dual_constraints_set['tables'].SARHSLow,dual_constraints_set['tables'].SARHSUp)\n"
   ]
  },
  {
   "cell_type": "code",
   "execution_count": 44,
   "metadata": {},
   "outputs": [
    {
     "name": "stdout",
     "output_type": "stream",
     "text": [
      "3.5 9.333333333333334\n"
     ]
    }
   ],
   "source": [
    "print(dual_constraints_set['chairs'].SARHSLow,dual_constraints_set['chairs'].SARHSUp)\n"
   ]
  }
 ],
 "metadata": {
  "kernelspec": {
   "display_name": "Python 3",
   "language": "python",
   "name": "python3"
  },
  "language_info": {
   "codemirror_mode": {
    "name": "ipython",
    "version": 3
   },
   "file_extension": ".py",
   "mimetype": "text/x-python",
   "name": "python",
   "nbconvert_exporter": "python",
   "pygments_lexer": "ipython3",
   "version": "3.6.5"
  }
 },
 "nbformat": 4,
 "nbformat_minor": 2
}
