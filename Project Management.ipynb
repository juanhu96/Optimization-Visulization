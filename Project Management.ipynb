{
 "cells": [
  {
   "cell_type": "markdown",
   "metadata": {},
   "source": [
    "### Project Managment\n",
    "$$\\begin{array}{rll}\n",
    "& T = \\text{time the project is complete}\\\\\n",
    "& s_{A} = \\text{start time for activity A}\\\\\n",
    "& s_{B} = \\text{start time for activity B}\\\\\n",
    "& s_{C} = \\text{start time for activity C}\\\\\n",
    "& s_{D} = \\text{start time for activity D}\\\\\n",
    "& s_{E} = \\text{start time for activity E}\\\\\n",
    "& s_{F} = \\text{start time for activity F}\\\\\n",
    "& s_{G} = \\text{start time for activity G}\\\\\n",
    "\\end{array}\n",
    "$$"
   ]
  },
  {
   "cell_type": "markdown",
   "metadata": {},
   "source": [
    "$$\\begin{array}{rll}\n",
    " \\text{min} & T\\\\\n",
    " \\text{s.t.} & s_{B} \\ge s_{A} + 21 \\text{ (Activity B cannot start until the completion time of A)}\\\\\n",
    " & s_{C} \\ge s_{A} + 21 \\text{ (Activity C cannot start until the completion time of A)}\\\\\n",
    " & s_{D} \\ge s_{B} + 5 \\text{ (Activity D cannot start until the completion time of B)}\\\\\n",
    " & s_{E} \\ge s_{C} + 7.5 \\text{ (Activity E cannot start until the completion time of C)}\\\\\n",
    " & s_{E} \\ge s_{D} + 2 \\text{ (Activity E cannot start until the completion time of D)}\\\\\n",
    " & s_{F} \\ge s_{C} + 7.5 \\text{ (Activity F cannot start until the completion time of C)}\\\\\n",
    " & s_{F} \\ge s_{D} + 2 \\text{ (Activity F cannot start until the completion time of D)}\\\\\n",
    " & s_{G} \\ge s_{E} + 7.5 \\text{ (Activity G cannot start until the completion time of E)}\\\\\n",
    " & s_{G} \\ge s_{F} + 9 \\text{ (Activity G cannot start until the completion time of F)}\\\\\n",
    " & T \\ge s_{G} + 2 \\text{ (The project cannot finish until the completion time of G)}\\\\\n",
    " & \\text{non-negativity constraint}\n",
    "\\end{array}\n",
    "$$"
   ]
  },
  {
   "cell_type": "markdown",
   "metadata": {},
   "source": [
    "### Set up Gurobi environment"
   ]
  },
  {
   "cell_type": "code",
   "execution_count": 1,
   "metadata": {},
   "outputs": [],
   "source": [
    "from gurobipy import *\n",
    "m = Model()"
   ]
  },
  {
   "cell_type": "markdown",
   "metadata": {},
   "source": [
    "### Set up activities, predecessors, and durations"
   ]
  },
  {
   "cell_type": "code",
   "execution_count": 2,
   "metadata": {},
   "outputs": [],
   "source": [
    "activities = [\"A\", \"B\", \"C\", \"D\", \"E\", \"F\", \"G\", \"T\"]"
   ]
  },
  {
   "cell_type": "code",
   "execution_count": 3,
   "metadata": {},
   "outputs": [],
   "source": [
    "duration = {\"A\":21, \"B\":5, \"C\":7.5, \"D\":2, \"E\":7.5, \"F\":9, \"G\":2}\n",
    "\n",
    "predecessors = {\"A\":{},\n",
    "                \"B\":{\"A\"},\n",
    "                \"C\":{\"A\"},\n",
    "                \"D\":{\"B\"},\n",
    "                \"E\":{\"C\",\"D\"},\n",
    "                \"F\":{\"C\",\"D\"},\n",
    "                \"G\":{\"E\",\"F\"},\n",
    "                \"T\":{\"G\"}\n",
    "               }"
   ]
  },
  {
   "cell_type": "code",
   "execution_count": 4,
   "metadata": {},
   "outputs": [],
   "source": [
    "time_contribution = {\"A\":0, \"B\":0, \"C\":0, \"D\":0, \"E\":0, \"F\":0, \"G\":0, \"T\":1}"
   ]
  },
  {
   "cell_type": "markdown",
   "metadata": {},
   "source": [
    "### Add variables and constraints into the Gurobi model"
   ]
  },
  {
   "cell_type": "code",
   "execution_count": 5,
   "metadata": {},
   "outputs": [],
   "source": [
    "activities_time = m.addVars(activities,  name=\"activities\") "
   ]
  },
  {
   "cell_type": "code",
   "execution_count": 6,
   "metadata": {},
   "outputs": [],
   "source": [
    "for a in activities:\n",
    "    activities_time[a].vtype = GRB.CONTINUOUS\n",
    "    activities_time[a].lb = 0"
   ]
  },
  {
   "cell_type": "markdown",
   "metadata": {},
   "source": [
    "### Constraints for predecessors"
   ]
  },
  {
   "cell_type": "code",
   "execution_count": 7,
   "metadata": {},
   "outputs": [],
   "source": [
    "for a in activities:\n",
    "    for p in predecessors[a]:\n",
    "        m.addConstr(activities_time[a] >= activities_time[p] + duration[p])"
   ]
  },
  {
   "cell_type": "markdown",
   "metadata": {},
   "source": [
    "### Constraints to make sure Y is the finish time for the last activity"
   ]
  },
  {
   "cell_type": "code",
   "execution_count": 8,
   "metadata": {},
   "outputs": [],
   "source": [
    "m.update()"
   ]
  },
  {
   "cell_type": "code",
   "execution_count": 9,
   "metadata": {},
   "outputs": [],
   "source": [
    "obj = activities_time[\"T\"]"
   ]
  },
  {
   "cell_type": "code",
   "execution_count": 10,
   "metadata": {},
   "outputs": [],
   "source": [
    "m.setObjective(obj, GRB.MINIMIZE)"
   ]
  },
  {
   "cell_type": "markdown",
   "metadata": {},
   "source": [
    "### Solve the LP, and look for the optimal objective function value"
   ]
  },
  {
   "cell_type": "code",
   "execution_count": 11,
   "metadata": {},
   "outputs": [
    {
     "name": "stdout",
     "output_type": "stream",
     "text": [
      "Optimize a model with 10 rows, 8 columns and 20 nonzeros\n",
      "Coefficient statistics:\n",
      "  Matrix range     [1e+00, 1e+00]\n",
      "  Objective range  [1e+00, 1e+00]\n",
      "  Bounds range     [0e+00, 0e+00]\n",
      "  RHS range        [2e+00, 2e+01]\n",
      "Presolve removed 10 rows and 8 columns\n",
      "Presolve time: 0.03s\n",
      "Presolve: All rows and columns removed\n",
      "Iteration    Objective       Primal Inf.    Dual Inf.      Time\n",
      "       0    3.9500000e+01   0.000000e+00   0.000000e+00      0s\n",
      "\n",
      "Solved in 0 iterations and 0.06 seconds\n",
      "Optimal objective  3.950000000e+01\n"
     ]
    }
   ],
   "source": [
    "m.optimize()"
   ]
  },
  {
   "cell_type": "markdown",
   "metadata": {},
   "source": [
    "### Optimal starting time for each activity"
   ]
  },
  {
   "cell_type": "code",
   "execution_count": 12,
   "metadata": {},
   "outputs": [
    {
     "name": "stdout",
     "output_type": "stream",
     "text": [
      "\n",
      "    Variable            X \n",
      "-------------------------\n",
      "activities[B]           21 \n",
      "activities[C]           21 \n",
      "activities[D]           26 \n",
      "activities[E]         28.5 \n",
      "activities[F]         28.5 \n",
      "activities[G]         37.5 \n",
      "activities[T]         39.5 \n"
     ]
    }
   ],
   "source": [
    "m.printAttr('X')"
   ]
  }
 ],
 "metadata": {
  "kernelspec": {
   "display_name": "Python 3",
   "language": "python",
   "name": "python3"
  },
  "language_info": {
   "codemirror_mode": {
    "name": "ipython",
    "version": 3
   },
   "file_extension": ".py",
   "mimetype": "text/x-python",
   "name": "python",
   "nbconvert_exporter": "python",
   "pygments_lexer": "ipython3",
   "version": "3.6.5"
  }
 },
 "nbformat": 4,
 "nbformat_minor": 2
}
