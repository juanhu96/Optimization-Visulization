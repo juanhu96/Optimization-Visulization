{
 "cells": [
  {
   "cell_type": "markdown",
   "metadata": {},
   "source": [
    "### Facility Location (unconstrained non-linear programming)"
   ]
  },
  {
   "cell_type": "code",
   "execution_count": 1,
   "metadata": {},
   "outputs": [],
   "source": [
    "from math import *\n",
    "from gurobipy import *\n",
    "m = Model()"
   ]
  },
  {
   "cell_type": "code",
   "execution_count": 2,
   "metadata": {},
   "outputs": [],
   "source": [
    "cities = [\"city_1\", \"city_2\", \"city_3\", \"city_4\", \"city_5\", \"city_6\", \"city_7\", \"city_8\", \"city_9\", \"city_10\"]\n",
    "\n",
    "cities_coord = {\"city_1\":{\"x\": 5,\"y\": 41},\n",
    "          \"city_2\":{\"x\": 20,\"y\": 10},\n",
    "          \"city_3\":{\"x\": 44,\"y\": 48},\n",
    "          \"city_4\":{\"x\": 60,\"y\": 58},\n",
    "          \"city_5\":{\"x\": 100,\"y\": 4},\n",
    "          \"city_6\":{\"x\": 138,\"y\": 80},\n",
    "          \"city_7\":{\"x\": 150,\"y\": 40},\n",
    "          \"city_8\":{\"x\": 170,\"y\": 18},\n",
    "          \"city_9\":{\"x\": 182,\"y\": 2},\n",
    "          \"city_10\":{\"x\": 190,\"y\": 56},\n",
    "         }\n",
    "\n",
    "cities_dist = {\"city_1\":{},\n",
    "          \"city_2\":{},\n",
    "          \"city_3\":{},\n",
    "          \"city_4\":{},\n",
    "          \"city_5\":{},\n",
    "          \"city_6\":{},\n",
    "          \"city_7\":{},\n",
    "          \"city_8\":{},\n",
    "          \"city_9\":{},\n",
    "          \"city_10\":{},\n",
    "         }"
   ]
  },
  {
   "cell_type": "code",
   "execution_count": 3,
   "metadata": {},
   "outputs": [],
   "source": [
    "cities_dist = m.addVars(cities,  name=\"cities_dist\")\n",
    "t = m.addVars(cities,  name=\"t\")\n",
    "x = m.addVar(vtype = GRB.CONTINUOUS, lb = 0, name = \"x\")\n",
    "y = m.addVar(vtype = GRB.CONTINUOUS, lb = 0, name = \"y\")"
   ]
  },
  {
   "cell_type": "code",
   "execution_count": 4,
   "metadata": {},
   "outputs": [],
   "source": [
    "for city in cities:\n",
    "    cities_dist[city].vtype = GRB.CONTINUOUS\n",
    "    cities_dist[city].lb = 0\n",
    "    \n",
    "for city in cities:\n",
    "    t[city].vtype = GRB.CONTINUOUS\n",
    "    t[city].lb = 0"
   ]
  },
  {
   "cell_type": "markdown",
   "metadata": {},
   "source": [
    "$z_{i} \\times z_{i} \\ge$ [dist(city i, (x,y))]^2"
   ]
  },
  {
   "cell_type": "markdown",
   "metadata": {},
   "source": [
    "$z_{i}\\ge$ dist(city i, (x,y))"
   ]
  },
  {
   "cell_type": "code",
   "execution_count": 5,
   "metadata": {},
   "outputs": [],
   "source": [
    "# for city in cities:\n",
    "#     m.addConstr(cities_dist[city]*cities_dist[city] >= \n",
    "#                 (x - cities_coord[city][\"x\"]) * (x - cities_coord[city][\"x\"]) + (y - cities_coord[city][\"y\"]) * (y - cities_coord[city][\"y\"]))\n",
    "    \n",
    "    "
   ]
  },
  {
   "cell_type": "markdown",
   "metadata": {},
   "source": [
    "z ^2 - 2 z * z1 + z1 ^2 - t1 ^2 <= 0 "
   ]
  },
  {
   "cell_type": "code",
   "execution_count": null,
   "metadata": {},
   "outputs": [],
   "source": [
    "for city in cities:\n",
    "    m.addConstr(cities_dist[city]*cities_dist[city] - 2\n",
    "                (x - cities_coord[city][\"x\"]) * (x - cities_coord[city][\"x\"]) + (y - cities_coord[city][\"y\"]) * (y - cities_coord[city][\"y\"]))\n",
    "    "
   ]
  },
  {
   "cell_type": "markdown",
   "metadata": {},
   "source": [
    "### Taking out the squareroot in constraint"
   ]
  },
  {
   "cell_type": "code",
   "execution_count": 6,
   "metadata": {},
   "outputs": [],
   "source": [
    "# for city in cities:\n",
    "#     m.addConstr(cities_dist[city] >= (x - cities_coord[city][\"x\"]) * (x - cities_coord[city][\"x\"]) + (y - cities_coord[city][\"y\"]) * (y - cities_coord[city][\"y\"]))\n",
    "    "
   ]
  },
  {
   "cell_type": "markdown",
   "metadata": {},
   "source": [
    "### Taking out the squareroot in objective function"
   ]
  },
  {
   "cell_type": "code",
   "execution_count": 7,
   "metadata": {},
   "outputs": [],
   "source": [
    "# obj = quicksum((x - cities_coord[city][\"x\"]) * (x - cities_coord[city][\"x\"]) +\n",
    "#                    (y - cities_coord[city][\"y\"]) * (y - cities_coord[city][\"y\"]) for city in cities)"
   ]
  },
  {
   "cell_type": "code",
   "execution_count": 8,
   "metadata": {},
   "outputs": [],
   "source": [
    "obj = quicksum(cities_dist[city] for city in cities)"
   ]
  },
  {
   "cell_type": "code",
   "execution_count": 9,
   "metadata": {},
   "outputs": [],
   "source": [
    "m.setObjective(obj, GRB.MINIMIZE)"
   ]
  },
  {
   "cell_type": "code",
   "execution_count": 10,
   "metadata": {},
   "outputs": [
    {
     "name": "stdout",
     "output_type": "stream",
     "text": [
      "Optimize a model with 0 rows, 12 columns and 0 nonzeros\n",
      "Model has 10 quadratic constraints\n",
      "Coefficient statistics:\n",
      "  Matrix range     [0e+00, 0e+00]\n",
      "  QMatrix range    [1e+00, 1e+00]\n",
      "  QLMatrix range   [4e+00, 4e+02]\n",
      "  Objective range  [1e+00, 1e+00]\n",
      "  Bounds range     [0e+00, 0e+00]\n",
      "  RHS range        [0e+00, 0e+00]\n",
      "  QRHS range       [5e+02, 4e+04]\n"
     ]
    },
    {
     "ename": "GurobiError",
     "evalue": "Q matrix is not positive semi-definite (PSD)",
     "output_type": "error",
     "traceback": [
      "\u001b[0;31m---------------------------------------------------------------------------\u001b[0m",
      "\u001b[0;31mGurobiError\u001b[0m                               Traceback (most recent call last)",
      "\u001b[0;32m<ipython-input-10-52b16b748dc5>\u001b[0m in \u001b[0;36m<module>\u001b[0;34m()\u001b[0m\n\u001b[0;32m----> 1\u001b[0;31m \u001b[0mm\u001b[0m\u001b[0;34m.\u001b[0m\u001b[0moptimize\u001b[0m\u001b[0;34m(\u001b[0m\u001b[0;34m)\u001b[0m\u001b[0;34m\u001b[0m\u001b[0m\n\u001b[0m",
      "\u001b[0;32mmodel.pxi\u001b[0m in \u001b[0;36mgurobipy.Model.optimize (../../src/python/gurobipy.c:58085)\u001b[0;34m()\u001b[0m\n",
      "\u001b[0;31mGurobiError\u001b[0m: Q matrix is not positive semi-definite (PSD)"
     ]
    }
   ],
   "source": [
    "m.optimize()"
   ]
  },
  {
   "cell_type": "code",
   "execution_count": null,
   "metadata": {},
   "outputs": [],
   "source": [
    "m.printAttr('X')"
   ]
  }
 ],
 "metadata": {
  "kernelspec": {
   "display_name": "Python 3",
   "language": "python",
   "name": "python3"
  },
  "language_info": {
   "codemirror_mode": {
    "name": "ipython",
    "version": 3
   },
   "file_extension": ".py",
   "mimetype": "text/x-python",
   "name": "python",
   "nbconvert_exporter": "python",
   "pygments_lexer": "ipython3",
   "version": "3.6.5"
  }
 },
 "nbformat": 4,
 "nbformat_minor": 2
}
