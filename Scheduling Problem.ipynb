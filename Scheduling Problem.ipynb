{
 "cells": [
  {
   "cell_type": "markdown",
   "metadata": {},
   "source": [
    "$$\n",
    "\\begin{array}{rl1}\n",
    "  & \\text{let } x_{t,e,w,s} \\\\\n",
    "  & \\text t \\text{ = type of employee} \\\\\n",
    "  & \\text e \\text{ = employee} \\\\ \n",
    "  & \\text w \\text{ = hour of work} \\\\\n",
    "  & \\text s \\text{ = the hour that start} \\\\\n",
    " \\end{array}\n",
    "$$\n",
    "\n",
    "$$\n",
    "\\begin{array}{rll}\n",
    " & \\text{Min total daily wages}\\\\\n",
    " \\text{s.t.} \n",
    " & \\text{Each worker only works for between their min&max work hours} \\\\\n",
    " & \\text{Each worker only works at their available hours} \\\\\n",
    " & \\text{Each worker only works for one shift (if called for duty)} \\\\\n",
    " & \\text{Minimum number of staff needed for work is satisfied at each hour} \\\\\n",
    " & \\text{non-negativity constraints}\\\\\n",
    "\\end{array}\n",
    "$$"
   ]
  },
  {
   "cell_type": "markdown",
   "metadata": {},
   "source": [
    "### Set up Gurobi environment"
   ]
  },
  {
   "cell_type": "code",
   "execution_count": null,
   "metadata": {},
   "outputs": [],
   "source": [
    "from gurobipy import *\n",
    "m = Model()"
   ]
  },
  {
   "cell_type": "markdown",
   "metadata": {},
   "source": [
    "### Add variables, where type i_j stands for min hour i to max hour j"
   ]
  },
  {
   "cell_type": "code",
   "execution_count": null,
   "metadata": {},
   "outputs": [],
   "source": [
    "employees = [\"SMITH\", \"JOHNSON\", \"WILLIAMS\", \"JONES\", \"BROWN\", \"DAVIS\", \"MILLER\",\"WILSON\",\n",
    "            \"MOORE\", \"TAYLOR\", \"ANDERSON\", \"THOMAS\", \"JACKSON\", \"WHITE\", \"HARRIS\", \"MARTIN\",\n",
    "            \"THOMPSON\", \"GARCIA\", \"MARTINEZ\", \"ROBINSON\"]\n",
    "\n",
    "types = [\"2_3\", \"2_4\", \"2_5\", \"2_6\", \"6_8\"]\n",
    "\n",
    "hours = [\"0\", \"1\", \"2\", \"3\", \"4\", \"5\", \"6\", \"7\", \"8\", \"9\", \"10\", \"11\", \"12\", \"13\", \"14\", \"15\", \"16\", \n",
    "          \"17\", \"18\", \"19\", \"20\", \"21\", \"22\", \"23\"]\n",
    "\n",
    "#for convenience when adding constraint\n",
    "available_constrs = [\"SMITH\", \"MILLER\", \"ANDERSON\", \"JACKSON\", \"THOMPSON\"]"
   ]
  },
  {
   "cell_type": "code",
   "execution_count": null,
   "metadata": {},
   "outputs": [],
   "source": [
    "employee_types = {\"2_3\":{\"ANDERSON\", \"MARTIN\"},\n",
    "         \"2_4\":{\"THOMAS\", \"JACKSON\", \"GARCIA\", \"MARTINEZ\"},\n",
    "         \"2_5\":{\"THOMPSON\", \"ROBINSON\"},\n",
    "         \"2_6\":{\"WHITE\", \"HARRIS\"},\n",
    "         \"6_8\":{\"SMITH\", \"JOHNSON\", \"WILLIAMS\", \"JONES\", \"BROWN\", \"DAVIS\", \"MILLER\", \"WILSON\", \"MOORE\", \"TAYLOR\"}\n",
    "        }\n",
    "\n",
    "# i.e for a 2_3 type, the worker can work either 2 hour or 3 hour is hired\n",
    "workhour_types = {\"2_3\":{\"2\", \"3\"},\n",
    "         \"2_4\":{\"2\", \"3\", \"4\"},\n",
    "         \"2_5\":{\"2\", \"3\", \"4\", \"5\"},\n",
    "         \"2_6\":{\"2\", \"3\", \"4\", \"5\", \"6\"},\n",
    "         \"6_8\":{\"6\", \"7\", \"8\"}\n",
    "           }\n",
    "\n",
    "# Start_hours: the time that the worker start to work\n",
    "start_hours =  [\"0\", \"1\", \"2\", \"3\", \"4\", \"5\", \"6\", \"7\", \"8\", \"9\", \"10\", \"11\", \"12\", \"13\", \"14\", \"15\", \"16\", \n",
    "          \"17\", \"18\", \"19\", \"20\", \"21\", \"22\", \"23\"]\n",
    "\n",
    "\n",
    "#available hours for some employees\n",
    "available_hours = {\"SMITH\":{\"6\", \"7\", \"8\", \"9\", \"10\", \"11\", \"12\", \"13\", \"14\", \"15\", \"16\", \"17\", \"18\", \"19\", \"20\"},\n",
    "                   \"MILLER\":{\"6\", \"7\", \"8\", \"9\", \"10\", \"11\", \"12\", \"13\", \"14\", \"15\", \"16\", \"17\", \"18\"},\n",
    "                   \"ANDERSON\":{\"0\", \"1\", \"2\", \"3\", \"4\", \"5\", \"6\", \"18\", \"19\", \"20\", \"21\", \"22\", \"23\"},\n",
    "                   \"JACKSON\":{\"8\", \"9\", \"10\", \"11\", \"12\", \"13\", \"14\", \"15\", \"16\"},\n",
    "                   \"THOMPSON\":{\"12\", \"13\", \"14\", \"15\", \"16\", \"17\", \"18\", \"19\", \"20\", \"21\", \"22\", \"23\"}\n",
    "                  }\n",
    "# the type of employees that have constraint on their available hours\n",
    "available_types = {\"SMITH\":\"6_8\",\n",
    "                   \"MILLER\":\"6_8\",\n",
    "                   \"ANDERSON\":\"2_3\",\n",
    "                   \"JACKSON\":\"2_4\",\n",
    "                   \"THOMPSON\":\"2_5\"}"
   ]
  },
  {
   "cell_type": "code",
   "execution_count": null,
   "metadata": {},
   "outputs": [],
   "source": [
    "wage_contribution = {\"SMITH\":30, \"JOHNSON\":50, \"WILLIAMS\":30, \"JONES\":30, \"BROWN\":40, \"DAVIS\":50, \"MILLER\":45,\"WILSON\":30,\n",
    "            \"MOORE\":35, \"TAYLOR\":40, \"ANDERSON\":60, \"THOMAS\":40, \"JACKSON\":60, \"WHITE\":55, \"HARRIS\":45, \"MARTIN\":40,\n",
    "            \"THOMPSON\":50, \"GARCIA\":50, \"MARTINEZ\":40, \"ROBINSON\":50}"
   ]
  },
  {
   "cell_type": "markdown",
   "metadata": {},
   "source": [
    "### Employer's demand at each given hour"
   ]
  },
  {
   "cell_type": "code",
   "execution_count": null,
   "metadata": {},
   "outputs": [],
   "source": [
    "employer_demand = {\"0\":1, \"1\":1, \"2\":2, \"3\":3, \"4\":6, \"5\":6, \"6\":7, \"7\":8, \"8\":9,\n",
    "               \"9\":8, \"10\":8, \"11\":8, \"12\":7, \"13\":6, \"14\":6, \"15\":5, \"16\":5,\n",
    "               \"17\":4, \"18\":4, \"19\":3, \"20\":2, \"21\":2, \"22\":2, \"23\":2\n",
    "              }"
   ]
  },
  {
   "cell_type": "markdown",
   "metadata": {},
   "source": [
    "### Load variables into the Gurobi Model\n",
    "$$\n",
    "\\begin{array}{rll}\n",
    "& \\text{hire_employee_hours[t][e,w,s]: } x_{t,e,w,s} = 1\\\\\n",
    "& \\text{if the type t worker e start working time s for w hours, otherwise 0}\\\\\n",
    "& \\text{hire_employee[e]: } y_{e} = 1\\\\\n",
    "& \\text{if the employee is hired, otherwise 0}\\\\\n",
    "\\end{array}\n",
    "$$"
   ]
  },
  {
   "cell_type": "code",
   "execution_count": null,
   "metadata": {},
   "outputs": [],
   "source": [
    "hire_employee_hours = {}\n",
    "for t in types:\n",
    "    hire_employee_hours[t] = m.addVars(employee_types[t], workhour_types[t], start_hours)\n",
    "    \n",
    "\n",
    "hire_employee = m.addVars(employees, name = \"hire_employee\")"
   ]
  },
  {
   "cell_type": "markdown",
   "metadata": {},
   "source": [
    "### Set up variable type (binary decisions)"
   ]
  },
  {
   "cell_type": "code",
   "execution_count": null,
   "metadata": {},
   "outputs": [],
   "source": [
    "for t in types:\n",
    "    for employee in employee_types[t]:\n",
    "        for workhour in workhour_types[t]:\n",
    "            for start_hour in start_hours:\n",
    "                hire_employee_hours[t][employee,workhour,start_hour].vtype = GRB.BINARY\n",
    "            \n",
    "for employee in employees:\n",
    "    hire_employee[employee].vtype = GRB.BINARY"
   ]
  },
  {
   "cell_type": "code",
   "execution_count": null,
   "metadata": {},
   "outputs": [],
   "source": [
    "m.update()"
   ]
  },
  {
   "cell_type": "markdown",
   "metadata": {},
   "source": [
    "### Add constraints (one shift per worker if called for duty)"
   ]
  },
  {
   "cell_type": "code",
   "execution_count": null,
   "metadata": {},
   "outputs": [],
   "source": [
    "for t in types:\n",
    "    m.addConstrs((quicksum(hire_employee_hours[t][e, w, s] for s in start_hours \n",
    "                       for w in workhour_types[t]) == hire_employee[e] for e in employee_types[t]), name = \"one_shift_constraints\") "
   ]
  },
  {
   "cell_type": "markdown",
   "metadata": {},
   "source": [
    "### Add constraints (available hours)"
   ]
  },
  {
   "cell_type": "code",
   "execution_count": null,
   "metadata": {},
   "outputs": [],
   "source": [
    "for e in available_constrs:\n",
    "    t = available_types[e] # the corresponding type of the employee, for the brevity of notation\n",
    "    m.addConstr(quicksum(hire_employee_hours[t][e,w,s] \n",
    "                          for s in available_hours[e] for w in workhour_types[t] \n",
    "                          if (str((int(s) + int(w) - 1) % 25) in available_hours[e])) == hire_employee[e])\n"
   ]
  },
  {
   "cell_type": "markdown",
   "metadata": {},
   "source": [
    "### Add constraints (minimum number of worker needed)"
   ]
  },
  {
   "cell_type": "code",
   "execution_count": null,
   "metadata": {},
   "outputs": [],
   "source": [
    "m.addConstrs((quicksum(hire_employee_hours[t][e, w, s]for t in types for e in employee_types[t]\n",
    "                       for s in start_hours for w in workhour_types[t] if ((( int(s) < int(h) )and ((int(s) + int(w)) > int(h)) ) or (int(s) == int(h)) or ( (int(s) > int(h)) and ( (int(s) + int(w)) > 24 + int(h)) ) )\n",
    "                      ) >= employer_demand[h] for h in hours), name = \"demand_constraints\")\n"
   ]
  },
  {
   "cell_type": "code",
   "execution_count": null,
   "metadata": {},
   "outputs": [],
   "source": [
    "m.update() "
   ]
  },
  {
   "cell_type": "markdown",
   "metadata": {},
   "source": [
    "### Set objective function"
   ]
  },
  {
   "cell_type": "code",
   "execution_count": null,
   "metadata": {},
   "outputs": [],
   "source": [
    "obj = quicksum( (int(w) *  hire_employee_hours[t][e, w, s] * wage_contribution[e]) for t in types for s in start_hours \n",
    "                       for w in workhour_types[t] for e in employee_types[t])"
   ]
  },
  {
   "cell_type": "markdown",
   "metadata": {},
   "source": [
    "### Tell Gurobi we want to minimize this objective function"
   ]
  },
  {
   "cell_type": "code",
   "execution_count": null,
   "metadata": {},
   "outputs": [],
   "source": [
    "m.setObjective(obj, GRB.MINIMIZE)"
   ]
  },
  {
   "cell_type": "markdown",
   "metadata": {},
   "source": [
    "### Solve the model"
   ]
  },
  {
   "cell_type": "code",
   "execution_count": null,
   "metadata": {},
   "outputs": [],
   "source": [
    "m.optimize()"
   ]
  },
  {
   "cell_type": "code",
   "execution_count": null,
   "metadata": {},
   "outputs": [],
   "source": [
    "m.write(\"file.lp\")"
   ]
  },
  {
   "cell_type": "markdown",
   "metadata": {},
   "source": [
    "### Set up matlab environment for plotting results"
   ]
  },
  {
   "cell_type": "code",
   "execution_count": null,
   "metadata": {},
   "outputs": [],
   "source": [
    "import matplotlib.pyplot as plt\n",
    "import numpy as np"
   ]
  },
  {
   "cell_type": "markdown",
   "metadata": {},
   "source": [
    "### Optimal decision output"
   ]
  },
  {
   "cell_type": "code",
   "execution_count": null,
   "metadata": {},
   "outputs": [],
   "source": [
    "for t in types:\n",
    "    for e in employee_types[t]:\n",
    "        for w in workhour_types[t]:\n",
    "            for s in start_hours:\n",
    "                if(hire_employee_hours[t][e,w,s].X == 1):\n",
    "                    print(\"hire employee \" + e + \" at time \" + s + \" for \" + w + \"hours\")"
   ]
  },
  {
   "cell_type": "markdown",
   "metadata": {},
   "source": [
    "### Employee shift schedule"
   ]
  },
  {
   "cell_type": "code",
   "execution_count": null,
   "metadata": {},
   "outputs": [],
   "source": [
    "employees_schedule = {}\n",
    "\n",
    "for t in types:\n",
    "    for e in employee_types[t]:\n",
    "        # clear the temporary list\n",
    "        employee_schedule = [0]*24\n",
    "        if(hire_employee[e].X == 1): # this employee is hired\n",
    "            for w in workhour_types[t]:\n",
    "                for s in start_hours:\n",
    "                    if(hire_employee_hours[t][e,w,s].X == 1):\n",
    "                        for i in range(0, int(w)):\n",
    "                            # use a temporary list to store the schedule for current worker\n",
    "                            employee_schedule[(int(s) + i) % 24] += 1 \n",
    "                    # use a dictionary of list to store the schedule for each worker\n",
    "                    employees_schedule[e] = employee_schedule.copy()\n",
    "        else: \n",
    "            employees_schedule[e] = employee_schedule.copy()"
   ]
  },
  {
   "cell_type": "markdown",
   "metadata": {},
   "source": [
    "### Hourly staff count (demand and actual)"
   ]
  },
  {
   "cell_type": "code",
   "execution_count": null,
   "metadata": {},
   "outputs": [],
   "source": [
    "# actual employee working at each hour\n",
    "actual_employee_working = [0] * 24\n",
    "\n",
    "for t in types:\n",
    "    for e in employee_types[t]:\n",
    "        for w in workhour_types[t]:\n",
    "            for s in start_hours:\n",
    "                if(hire_employee_hours[t][e,w,s].X == 1):\n",
    "                    for i in range(0, int(w)):\n",
    "                        actual_employee_working[(int(s) + i) % 24] += 1\n",
    "\n",
    "\n",
    "# demand employee working at each hour\n",
    "demand_employee_working = list(map(int, employer_demand.values()))"
   ]
  },
  {
   "cell_type": "markdown",
   "metadata": {},
   "source": [
    "### Plot the results"
   ]
  },
  {
   "cell_type": "code",
   "execution_count": null,
   "metadata": {},
   "outputs": [],
   "source": [
    "# convert the dictionary into a matrix for plotting\n",
    "employee_matrix = np.array([employees_schedule[i] for i in employees])\n",
    "plt.imshow(employee_matrix);\n",
    "#titles and labels\n",
    "plt.xlabel('Time of day')\n",
    "plt.ylabel('Employee Name')\n",
    "plt.title('Employee Shift Schedule (Mixed Integer Programming)')\n",
    "plt.axis('tight')\n",
    "plt.yticks(np.arange(20), employees)\n",
    "#modify ticks on y-axis\n",
    "my_x_ticks = np.arange(0, 24, 1)      \n",
    "plt.xticks(my_x_ticks)\n",
    "plt.show()"
   ]
  },
  {
   "cell_type": "code",
   "execution_count": null,
   "metadata": {},
   "outputs": [],
   "source": [
    "plt.xlabel('Time of day')\n",
    "plt.ylabel('Numbers of employee')\n",
    "plt.title('Hourly Staff Count(Mixed Integer Programming)')\n",
    "plt.plot(actual_employee_working, '.')\n",
    "plt.plot(demand_employee_working, '-')\n",
    "plt.legend(['employees scheduled', 'employees required'])\n",
    "plt.show()"
   ]
  }
 ],
 "metadata": {
  "kernelspec": {
   "display_name": "Python 3",
   "language": "python",
   "name": "python3"
  },
  "language_info": {
   "codemirror_mode": {
    "name": "ipython",
    "version": 3
   },
   "file_extension": ".py",
   "mimetype": "text/x-python",
   "name": "python",
   "nbconvert_exporter": "python",
   "pygments_lexer": "ipython3",
   "version": "3.6.5"
  }
 },
 "nbformat": 4,
 "nbformat_minor": 2
}
